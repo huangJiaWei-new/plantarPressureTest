{
 "cells": [
  {
   "cell_type": "code",
   "execution_count": 7,
   "metadata": {},
   "outputs": [
    {
     "name": "stderr",
     "output_type": "stream",
     "text": [
      "f:\\Python\\lib\\site-packages\\pygments\\regexopt.py:78: RuntimeWarning: coroutine 'main' was never awaited\n",
      "  for group in groupby(strings, lambda s: s[0] == first[0])) \\\n",
      "RuntimeWarning: Enable tracemalloc to get the object allocation traceback\n"
     ]
    },
    {
     "ename": "ConnectionRefusedError",
     "evalue": "[Errno 10061] Connect call failed ('10.1.48.166', 8765)",
     "output_type": "error",
     "traceback": [
      "\u001b[1;31m---------------------------------------------------------------------------\u001b[0m",
      "\u001b[1;31mConnectionRefusedError\u001b[0m                    Traceback (most recent call last)",
      "Cell \u001b[1;32mIn[7], line 62\u001b[0m\n\u001b[0;32m     59\u001b[0m             \u001b[39mprint\u001b[39m(\u001b[39m\"\u001b[39m\u001b[39mVideo saved as: \u001b[39m\u001b[39m{}\u001b[39;00m\u001b[39m\"\u001b[39m\u001b[39m.\u001b[39mformat(output_filename))\n\u001b[0;32m     61\u001b[0m \u001b[39mif\u001b[39;00m \u001b[39m__name__\u001b[39m \u001b[39m==\u001b[39m \u001b[39m\"\u001b[39m\u001b[39m__main__\u001b[39m\u001b[39m\"\u001b[39m:\n\u001b[1;32m---> 62\u001b[0m     \u001b[39mawait\u001b[39;00m main()\n",
      "Cell \u001b[1;32mIn[7], line 50\u001b[0m, in \u001b[0;36mmain\u001b[1;34m()\u001b[0m\n\u001b[0;32m     47\u001b[0m server_port \u001b[39m=\u001b[39m \u001b[39m8765\u001b[39m  \u001b[39m# WebSocket服务器的端口号\u001b[39;00m\n\u001b[0;32m     49\u001b[0m \u001b[39m# 连接WebSocket服务器\u001b[39;00m\n\u001b[1;32m---> 50\u001b[0m \u001b[39masync\u001b[39;00m \u001b[39mwith\u001b[39;00m websockets\u001b[39m.\u001b[39mconnect(\u001b[39m\"\u001b[39m\u001b[39mws://\u001b[39m\u001b[39m{}\u001b[39;00m\u001b[39m:\u001b[39m\u001b[39m{}\u001b[39;00m\u001b[39m\"\u001b[39m\u001b[39m.\u001b[39mformat(server_host, server_port)) \u001b[39mas\u001b[39;00m websocket:\n\u001b[0;32m     51\u001b[0m     \u001b[39m# 接收视频数据\u001b[39;00m\n\u001b[0;32m     52\u001b[0m     video_data \u001b[39m=\u001b[39m \u001b[39mawait\u001b[39;00m receive_video(websocket)\n\u001b[0;32m     54\u001b[0m     \u001b[39m# 将视频数据保存为本地视频文件\u001b[39;00m\n",
      "File \u001b[1;32mf:\\Python\\lib\\site-packages\\websockets\\legacy\\client.py:637\u001b[0m, in \u001b[0;36mConnect.__aenter__\u001b[1;34m(self)\u001b[0m\n\u001b[0;32m    636\u001b[0m \u001b[39masync\u001b[39;00m \u001b[39mdef\u001b[39;00m \u001b[39m__aenter__\u001b[39m(\u001b[39mself\u001b[39m) \u001b[39m-\u001b[39m\u001b[39m>\u001b[39m WebSocketClientProtocol:\n\u001b[1;32m--> 637\u001b[0m     \u001b[39mreturn\u001b[39;00m \u001b[39mawait\u001b[39;00m \u001b[39mself\u001b[39m\n",
      "File \u001b[1;32mf:\\Python\\lib\\site-packages\\websockets\\legacy\\client.py:655\u001b[0m, in \u001b[0;36mConnect.__await_impl_timeout__\u001b[1;34m(self)\u001b[0m\n\u001b[0;32m    653\u001b[0m \u001b[39masync\u001b[39;00m \u001b[39mdef\u001b[39;00m \u001b[39m__await_impl_timeout__\u001b[39m(\u001b[39mself\u001b[39m) \u001b[39m-\u001b[39m\u001b[39m>\u001b[39m WebSocketClientProtocol:\n\u001b[0;32m    654\u001b[0m     \u001b[39masync\u001b[39;00m \u001b[39mwith\u001b[39;00m asyncio_timeout(\u001b[39mself\u001b[39m\u001b[39m.\u001b[39mopen_timeout):\n\u001b[1;32m--> 655\u001b[0m         \u001b[39mreturn\u001b[39;00m \u001b[39mawait\u001b[39;00m \u001b[39mself\u001b[39m\u001b[39m.\u001b[39m__await_impl__()\n",
      "File \u001b[1;32mf:\\Python\\lib\\site-packages\\websockets\\legacy\\client.py:659\u001b[0m, in \u001b[0;36mConnect.__await_impl__\u001b[1;34m(self)\u001b[0m\n\u001b[0;32m    657\u001b[0m \u001b[39masync\u001b[39;00m \u001b[39mdef\u001b[39;00m \u001b[39m__await_impl__\u001b[39m(\u001b[39mself\u001b[39m) \u001b[39m-\u001b[39m\u001b[39m>\u001b[39m WebSocketClientProtocol:\n\u001b[0;32m    658\u001b[0m     \u001b[39mfor\u001b[39;00m redirects \u001b[39min\u001b[39;00m \u001b[39mrange\u001b[39m(\u001b[39mself\u001b[39m\u001b[39m.\u001b[39mMAX_REDIRECTS_ALLOWED):\n\u001b[1;32m--> 659\u001b[0m         _transport, _protocol \u001b[39m=\u001b[39m \u001b[39mawait\u001b[39;00m \u001b[39mself\u001b[39m\u001b[39m.\u001b[39m_create_connection()\n\u001b[0;32m    660\u001b[0m         protocol \u001b[39m=\u001b[39m cast(WebSocketClientProtocol, _protocol)\n\u001b[0;32m    661\u001b[0m         \u001b[39mtry\u001b[39;00m:\n",
      "File \u001b[1;32mf:\\Python\\lib\\asyncio\\base_events.py:1025\u001b[0m, in \u001b[0;36mBaseEventLoop.create_connection\u001b[1;34m(self, protocol_factory, host, port, ssl, family, proto, flags, sock, local_addr, server_hostname, ssl_handshake_timeout, happy_eyeballs_delay, interleave)\u001b[0m\n\u001b[0;32m   1023\u001b[0m exceptions \u001b[39m=\u001b[39m [exc \u001b[39mfor\u001b[39;00m sub \u001b[39min\u001b[39;00m exceptions \u001b[39mfor\u001b[39;00m exc \u001b[39min\u001b[39;00m sub]\n\u001b[0;32m   1024\u001b[0m \u001b[39mif\u001b[39;00m \u001b[39mlen\u001b[39m(exceptions) \u001b[39m==\u001b[39m \u001b[39m1\u001b[39m:\n\u001b[1;32m-> 1025\u001b[0m     \u001b[39mraise\u001b[39;00m exceptions[\u001b[39m0\u001b[39m]\n\u001b[0;32m   1026\u001b[0m \u001b[39melse\u001b[39;00m:\n\u001b[0;32m   1027\u001b[0m     \u001b[39m# If they all have the same str(), raise one.\u001b[39;00m\n\u001b[0;32m   1028\u001b[0m     model \u001b[39m=\u001b[39m \u001b[39mstr\u001b[39m(exceptions[\u001b[39m0\u001b[39m])\n",
      "File \u001b[1;32mf:\\Python\\lib\\asyncio\\base_events.py:1010\u001b[0m, in \u001b[0;36mBaseEventLoop.create_connection\u001b[1;34m(self, protocol_factory, host, port, ssl, family, proto, flags, sock, local_addr, server_hostname, ssl_handshake_timeout, happy_eyeballs_delay, interleave)\u001b[0m\n\u001b[0;32m   1008\u001b[0m \u001b[39mfor\u001b[39;00m addrinfo \u001b[39min\u001b[39;00m infos:\n\u001b[0;32m   1009\u001b[0m     \u001b[39mtry\u001b[39;00m:\n\u001b[1;32m-> 1010\u001b[0m         sock \u001b[39m=\u001b[39m \u001b[39mawait\u001b[39;00m \u001b[39mself\u001b[39m\u001b[39m.\u001b[39m_connect_sock(\n\u001b[0;32m   1011\u001b[0m             exceptions, addrinfo, laddr_infos)\n\u001b[0;32m   1012\u001b[0m         \u001b[39mbreak\u001b[39;00m\n\u001b[0;32m   1013\u001b[0m     \u001b[39mexcept\u001b[39;00m \u001b[39mOSError\u001b[39;00m:\n",
      "File \u001b[1;32mf:\\Python\\lib\\asyncio\\base_events.py:924\u001b[0m, in \u001b[0;36mBaseEventLoop._connect_sock\u001b[1;34m(self, exceptions, addr_info, local_addr_infos)\u001b[0m\n\u001b[0;32m    922\u001b[0m         \u001b[39melse\u001b[39;00m:  \u001b[39m# all bind attempts failed\u001b[39;00m\n\u001b[0;32m    923\u001b[0m             \u001b[39mraise\u001b[39;00m my_exceptions\u001b[39m.\u001b[39mpop()\n\u001b[1;32m--> 924\u001b[0m     \u001b[39mawait\u001b[39;00m \u001b[39mself\u001b[39m\u001b[39m.\u001b[39msock_connect(sock, address)\n\u001b[0;32m    925\u001b[0m     \u001b[39mreturn\u001b[39;00m sock\n\u001b[0;32m    926\u001b[0m \u001b[39mexcept\u001b[39;00m \u001b[39mOSError\u001b[39;00m \u001b[39mas\u001b[39;00m exc:\n",
      "File \u001b[1;32mf:\\Python\\lib\\asyncio\\selector_events.py:496\u001b[0m, in \u001b[0;36mBaseSelectorEventLoop.sock_connect\u001b[1;34m(self, sock, address)\u001b[0m\n\u001b[0;32m    494\u001b[0m fut \u001b[39m=\u001b[39m \u001b[39mself\u001b[39m\u001b[39m.\u001b[39mcreate_future()\n\u001b[0;32m    495\u001b[0m \u001b[39mself\u001b[39m\u001b[39m.\u001b[39m_sock_connect(fut, sock, address)\n\u001b[1;32m--> 496\u001b[0m \u001b[39mreturn\u001b[39;00m \u001b[39mawait\u001b[39;00m fut\n",
      "File \u001b[1;32mf:\\Python\\lib\\asyncio\\selector_events.py:528\u001b[0m, in \u001b[0;36mBaseSelectorEventLoop._sock_connect_cb\u001b[1;34m(self, fut, sock, address)\u001b[0m\n\u001b[0;32m    525\u001b[0m     err \u001b[39m=\u001b[39m sock\u001b[39m.\u001b[39mgetsockopt(socket\u001b[39m.\u001b[39mSOL_SOCKET, socket\u001b[39m.\u001b[39mSO_ERROR)\n\u001b[0;32m    526\u001b[0m     \u001b[39mif\u001b[39;00m err \u001b[39m!=\u001b[39m \u001b[39m0\u001b[39m:\n\u001b[0;32m    527\u001b[0m         \u001b[39m# Jump to any except clause below.\u001b[39;00m\n\u001b[1;32m--> 528\u001b[0m         \u001b[39mraise\u001b[39;00m \u001b[39mOSError\u001b[39;00m(err, \u001b[39mf\u001b[39m\u001b[39m'\u001b[39m\u001b[39mConnect call failed \u001b[39m\u001b[39m{\u001b[39;00maddress\u001b[39m}\u001b[39;00m\u001b[39m'\u001b[39m)\n\u001b[0;32m    529\u001b[0m \u001b[39mexcept\u001b[39;00m (\u001b[39mBlockingIOError\u001b[39;00m, \u001b[39mInterruptedError\u001b[39;00m):\n\u001b[0;32m    530\u001b[0m     \u001b[39m# socket is still registered, the callback will be retried later\u001b[39;00m\n\u001b[0;32m    531\u001b[0m     \u001b[39mpass\u001b[39;00m\n",
      "\u001b[1;31mConnectionRefusedError\u001b[0m: [Errno 10061] Connect call failed ('10.1.48.166', 8765)"
     ]
    }
   ],
   "source": [
    "'''\n",
    "import asyncio\n",
    "import websockets\n",
    "\n",
    "async def receive_video_file(websocket):\n",
    "    with open(\"received_video.avi\", 'wb') as received_file:\n",
    "        while True:\n",
    "            data_chunk = await websocket.recv()\n",
    "            if not data_chunk:\n",
    "                break\n",
    "            received_file.write(data_chunk)\n",
    "\n",
    "async def main():\n",
    "    async with websockets.connect(\"ws://10.1.48.166:8765\") as websocket:\n",
    "        await receive_video_file(websocket)\n",
    "\n",
    "await main()\n",
    "'''\n",
    "\n",
    "# 第二版接收数据代码\n",
    "import asyncio\n",
    "import websockets\n",
    "\n",
    "async def receive_video(websocket):\n",
    "    video_data = b''  # 存储接收到的视频数据\n",
    "\n",
    "    try:\n",
    "        while True:\n",
    "            # 接收数据包\n",
    "            data_chunk = await websocket.recv()\n",
    "            if not data_chunk:\n",
    "                break\n",
    "            # 添加数据包到视频数据中\n",
    "            video_data += data_chunk\n",
    "\n",
    "    # 处理异常情况\n",
    "    except websockets.exceptions.ConnectionClosedOK:\n",
    "        # 服务器端关闭连接\n",
    "        print(\"Server disconnected.\")\n",
    "    except Exception as e:\n",
    "        print(\"An error occurred while receiving video: {}\".format(e))\n",
    "    \n",
    "    return video_data\n",
    "\n",
    "async def main():\n",
    "    server_host = \"10.1.48.166\"  # WebSocket服务器的IP地址\n",
    "    server_port = 8765  # WebSocket服务器的端口号\n",
    "\n",
    "    # 连接WebSocket服务器\n",
    "    async with websockets.connect(\"ws://{}:{}\".format(server_host, server_port)) as websocket:\n",
    "        # 接收视频数据\n",
    "        video_data = await receive_video(websocket)\n",
    "\n",
    "        # 将视频数据保存为本地视频文件\n",
    "        if video_data:\n",
    "            output_filename = \"received_video.avi\"  # 替换为保存视频的文件名\n",
    "            with open(output_filename, 'wb') as output_file:\n",
    "                output_file.write(video_data)\n",
    "            print(\"Video saved as: {}\".format(output_filename))\n",
    "\n",
    "if __name__ == \"__main__\":\n",
    "    await main()\n",
    "\n",
    "\n",
    "\n",
    "\n",
    "\n",
    "\n",
    "\n"
   ]
  }
 ],
 "metadata": {
  "kernelspec": {
   "display_name": "Python 3",
   "language": "python",
   "name": "python3"
  },
  "language_info": {
   "codemirror_mode": {
    "name": "ipython",
    "version": 3
   },
   "file_extension": ".py",
   "mimetype": "text/x-python",
   "name": "python",
   "nbconvert_exporter": "python",
   "pygments_lexer": "ipython3",
   "version": "3.8.10"
  },
  "orig_nbformat": 4
 },
 "nbformat": 4,
 "nbformat_minor": 2
}
